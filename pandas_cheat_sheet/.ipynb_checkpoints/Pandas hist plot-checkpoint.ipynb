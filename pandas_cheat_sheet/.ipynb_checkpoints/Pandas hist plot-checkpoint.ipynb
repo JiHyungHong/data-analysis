{
 "cells": [
  {
   "cell_type": "markdown",
   "metadata": {},
   "source": [
    "# Histograms\n",
    "\n",
    "## 도수분포표 vs 히스토그램\n",
    "- 도수분포표 : 특정 구간에 속하는 자료의 개수를 표현 (도수분포 -위키백과, 우리모두의 백과사전)\n",
    "- 히스토그램 : 도수분포표를 시각화하여 막대그래프로 표현, 하지만 bar plot과는 다름\n",
    "\n",
    "## 막대그래프 vs 히스토그램 (bar plot vs hist plot)\n",
    "- bar plot: \n",
    "- hist plot:"
   ]
  },
  {
   "cell_type": "code",
   "execution_count": null,
   "metadata": {},
   "outputs": [],
   "source": []
  }
 ],
 "metadata": {
  "kernelspec": {
   "display_name": "Python 3",
   "language": "python",
   "name": "python3"
  },
  "language_info": {
   "codemirror_mode": {
    "name": "ipython",
    "version": 3
   },
   "file_extension": ".py",
   "mimetype": "text/x-python",
   "name": "python",
   "nbconvert_exporter": "python",
   "pygments_lexer": "ipython3",
   "version": "3.7.3"
  }
 },
 "nbformat": 4,
 "nbformat_minor": 2
}
